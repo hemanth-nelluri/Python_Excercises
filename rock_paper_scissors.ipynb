{
 "cells": [
  {
   "cell_type": "code",
   "execution_count": 10,
   "id": "89dfa5cf-17f0-4cf4-ae93-b2c064d8f610",
   "metadata": {},
   "outputs": [
    {
     "data": {
      "text/html": [
       "<pre style=\"white-space:pre;overflow-x:auto;line-height:normal;font-family:Menlo,'DejaVu Sans Mono',consolas,'Courier New',monospace\">welcome to rock_paper_scissors game\n",
       "</pre>\n"
      ],
      "text/plain": [
       "welcome to rock_paper_scissors game\n"
      ]
     },
     "metadata": {},
     "output_type": "display_data"
    },
    {
     "name": "stdin",
     "output_type": "stream",
     "text": [
      "enter your name: poiuytrew\n"
     ]
    },
    {
     "data": {
      "text/html": [
       "<pre style=\"white-space:pre;overflow-x:auto;line-height:normal;font-family:Menlo,'DejaVu Sans Mono',consolas,'Courier New',monospace\">poiuytrew\n",
       "</pre>\n"
      ],
      "text/plain": [
       "poiuytrew\n"
      ]
     },
     "metadata": {},
     "output_type": "display_data"
    },
    {
     "name": "stdin",
     "output_type": "stream",
     "text": [
      "select \"rock\" or \"paper\" or \"scissors\" paper\n"
     ]
    },
    {
     "data": {
      "text/html": [
       "<pre style=\"white-space:pre;overflow-x:auto;line-height:normal;font-family:Menlo,'DejaVu Sans Mono',consolas,'Courier New',monospace\">\n",
       "     _______\n",
       "---'    ____<span style=\"font-weight: bold\">)</span>____\n",
       "           ______<span style=\"font-weight: bold\">)</span>\n",
       "          _______<span style=\"font-weight: bold\">)</span>\n",
       "         _______<span style=\"font-weight: bold\">)</span>\n",
       "---.__________<span style=\"font-weight: bold\">)</span>\n",
       "\n",
       "</pre>\n"
      ],
      "text/plain": [
       "\n",
       "     _______\n",
       "---'    ____\u001b[1m)\u001b[0m____\n",
       "           ______\u001b[1m)\u001b[0m\n",
       "          _______\u001b[1m)\u001b[0m\n",
       "         _______\u001b[1m)\u001b[0m\n",
       "---.__________\u001b[1m)\u001b[0m\n",
       "\n"
      ]
     },
     "metadata": {},
     "output_type": "display_data"
    },
    {
     "data": {
      "text/html": [
       "<pre style=\"white-space:pre;overflow-x:auto;line-height:normal;font-family:Menlo,'DejaVu Sans Mono',consolas,'Courier New',monospace\">computer\n",
       "</pre>\n"
      ],
      "text/plain": [
       "computer\n"
      ]
     },
     "metadata": {},
     "output_type": "display_data"
    },
    {
     "data": {
      "text/html": [
       "<pre style=\"white-space:pre;overflow-x:auto;line-height:normal;font-family:Menlo,'DejaVu Sans Mono',consolas,'Courier New',monospace\">\n",
       "     _______\n",
       "---'    ____<span style=\"font-weight: bold\">)</span>____\n",
       "           ______<span style=\"font-weight: bold\">)</span>\n",
       "          _______<span style=\"font-weight: bold\">)</span>\n",
       "         _______<span style=\"font-weight: bold\">)</span>\n",
       "---.__________<span style=\"font-weight: bold\">)</span>\n",
       "\n",
       "</pre>\n"
      ],
      "text/plain": [
       "\n",
       "     _______\n",
       "---'    ____\u001b[1m)\u001b[0m____\n",
       "           ______\u001b[1m)\u001b[0m\n",
       "          _______\u001b[1m)\u001b[0m\n",
       "         _______\u001b[1m)\u001b[0m\n",
       "---.__________\u001b[1m)\u001b[0m\n",
       "\n"
      ]
     },
     "metadata": {},
     "output_type": "display_data"
    },
    {
     "data": {
      "text/html": [
       "<pre style=\"white-space:pre;overflow-x:auto;line-height:normal;font-family:Menlo,'DejaVu Sans Mono',consolas,'Courier New',monospace\">draw.\n",
       "</pre>\n"
      ],
      "text/plain": [
       "draw.\n"
      ]
     },
     "metadata": {},
     "output_type": "display_data"
    }
   ],
   "source": [
    "import random\n",
    "rock_img=\"\"\"\n",
    "    _______\n",
    "---'   ____)\n",
    "      (_____)\n",
    "      (_____)\n",
    "      (____)\n",
    "---.__(___)\n",
    "\"\"\"\n",
    "paper_img=\"\"\"\n",
    "     _______\n",
    "---'    ____)____\n",
    "           ______)\n",
    "          _______)\n",
    "         _______)\n",
    "---.__________)\n",
    "\"\"\"\n",
    "\n",
    "scissors_img=\"\"\"\n",
    "    _______\n",
    "---'   ____)____\n",
    "          ______)\n",
    "       __________)\n",
    "      (____)\n",
    "---.__(___)\n",
    "\"\"\"\n",
    "game_imgs=[rock_img,paper_img,scissors_img]\n",
    "list1=[\"rock\",\"paper\",\"scissors\"]\n",
    "print(\"welcome to rock_paper_scissors game\")\n",
    "name=input(\"enter your name:\")\n",
    "print(name)\n",
    "player1=input('select \"rock\" or \"paper\" or \"scissors\"')\n",
    "p1=list1.index(player1)\n",
    "print(game_imgs[p1])\n",
    "print(\"computer\")\n",
    "player2=list1[random.randint(0,1)]\n",
    "p2=list1.index(player2)\n",
    "print(game_imgs[p2])\n",
    "if player1==player2:\n",
    "    print(\"draw.\")\n",
    "else:\n",
    "    if player1==\"rock\":\n",
    "        if player2==\"paper\":\n",
    "            print(\"computer wins.\\nBetter Luck Next Time :(\")\n",
    "        else:\n",
    "            print(\"Hurray!You Won :)\")\n",
    "    if player1==\"paper\":\n",
    "        if player2==\"rock\":\n",
    "            print(\"computer wins.\\nBetter Luck Next Time :(\")\n",
    "        else:\n",
    "            print(\"Hurray!You Won :)\")\n",
    "    if player1==\"scissors\":\n",
    "        if player2==\"rock\":\n",
    "            print(\"computer wins.\\nBetter Luck Next Time :(\")\n",
    "        else:\n",
    "            print(\"Hurray!You Won :)\")\n",
    "\n",
    "\n",
    "\n",
    "            \n",
    "        \n",
    "\n",
    "    \n",
    "\n",
    "\n"
   ]
  },
  {
   "cell_type": "code",
   "execution_count": null,
   "id": "f3c26858-df5b-44e5-97ce-514d582c71b5",
   "metadata": {},
   "outputs": [],
   "source": []
  }
 ],
 "metadata": {
  "kernelspec": {
   "display_name": "Python 3 (ipykernel)",
   "language": "python",
   "name": "python3"
  },
  "language_info": {
   "codemirror_mode": {
    "name": "ipython",
    "version": 3
   },
   "file_extension": ".py",
   "mimetype": "text/x-python",
   "name": "python",
   "nbconvert_exporter": "python",
   "pygments_lexer": "ipython3",
   "version": "3.12.7"
  }
 },
 "nbformat": 4,
 "nbformat_minor": 5
}
