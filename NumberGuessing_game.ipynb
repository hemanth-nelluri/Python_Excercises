{
 "cells": [
  {
   "cell_type": "code",
   "execution_count": 12,
   "id": "1e8cd0e4-6516-4c41-8108-f871fe97ff63",
   "metadata": {},
   "outputs": [
    {
     "name": "stdout",
     "output_type": "stream",
     "text": [
      "Requirement already satisfied: art in c:\\users\\iliaz\\anaconda3\\lib\\site-packages (6.5)\n",
      "Note: you may need to restart the kernel to use updated packages.\n"
     ]
    }
   ],
   "source": [
    "pip install art"
   ]
  },
  {
   "cell_type": "code",
   "execution_count": null,
   "id": "062547f7-7375-4ce8-8333-dd6fa09b07ff",
   "metadata": {},
   "outputs": [
    {
     "name": "stdout",
     "output_type": "stream",
     "text": [
      " _   _                    _                    ____                         _                  ____                         \n",
      "| \\ | | _   _  _ __ ___  | |__    ___  _ __   / ___| _   _   ___  ___  ___ (_) _ __    __ _   / ___|  __ _  _ __ ___    ___ \n",
      "|  \\| || | | || '_ ` _ \\ | '_ \\  / _ \\| '__| | |  _ | | | | / _ \\/ __|/ __|| || '_ \\  / _` | | |  _  / _` || '_ ` _ \\  / _ \\\n",
      "| |\\  || |_| || | | | | || |_) ||  __/| |    | |_| || |_| ||  __/\\__ \\\\__ \\| || | | || (_| | | |_| || (_| || | | | | ||  __/\n",
      "|_| \\_| \\__,_||_| |_| |_||_.__/  \\___||_|     \\____| \\__,_| \\___||___/|___/|_||_| |_| \\__, |  \\____| \\__,_||_| |_| |_| \\___|\n",
      "                                                                                      |___/                                 \n",
      "\n",
      "Welcome to Number Guessing Game\n"
     ]
    }
   ],
   "source": [
    "from art import tprint\n",
    "tprint(\"Number Guessing Game\")\n",
    "import random\n",
    "def NumberGuessing(guess,number):\n",
    "    if guess<number:\n",
    "        print(\"TOO LOW\")\n",
    "    elif guess>number:\n",
    "        print(\"TOO HIGH\")\n",
    "    elif guess==number:\n",
    "        print(\"****YOU WON****\")\n",
    "    \n",
    "print(\"Welcome to Number Guessing Game\")\n",
    "number=random.randint(1,100)\n",
    "choice=(input(\"Select level of game?'Hard' or 'Easy'\")).strip().lower()\n",
    "if choice=='hard':\n",
    "    chances=5\n",
    "else:\n",
    "    chances=10\n",
    "print(f\"You have {chances} chances\")\n",
    "while chances>0:\n",
    "    guess=int(input(\"Guess the Number:\"))\n",
    "    NumberGuessing(guess,number)\n",
    "    if guess==number:\n",
    "        break\n",
    "    chances-=1\n",
    "    print(f\"remaing chances: {chances}\")\n",
    "if guess!=number and chances==0:\n",
    "    print(\"****You Lose****\")\n",
    "    print(f\"correct number is {number}\")\n",
    "\n"
   ]
  },
  {
   "cell_type": "code",
   "execution_count": null,
   "id": "2d75fbe8-21c1-47ba-b65c-1058176948df",
   "metadata": {},
   "outputs": [],
   "source": []
  }
 ],
 "metadata": {
  "kernelspec": {
   "display_name": "Python 3 (ipykernel)",
   "language": "python",
   "name": "python3"
  },
  "language_info": {
   "codemirror_mode": {
    "name": "ipython",
    "version": 3
   },
   "file_extension": ".py",
   "mimetype": "text/x-python",
   "name": "python",
   "nbconvert_exporter": "python",
   "pygments_lexer": "ipython3",
   "version": "3.12.7"
  }
 },
 "nbformat": 4,
 "nbformat_minor": 5
}
