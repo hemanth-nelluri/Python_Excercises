{
 "cells": [
  {
   "cell_type": "code",
   "execution_count": null,
   "id": "d3332467-d8af-4bef-9268-a116e2a31734",
   "metadata": {},
   "outputs": [
    {
     "name": "stdout",
     "output_type": "stream",
     "text": [
      "_____________________\n",
      "|  _________________  |\n",
      "| |              0. | |\n",
      "| |_________________| |\n",
      "|  ___ ___ ___   ___  |\n",
      "| | 7 | 8 | 9 | | + | |\n",
      "| |___|___|___| |___| |\n",
      "| | 4 | 5 | 6 | | - | |\n",
      "| |___|___|___| |___| |\n",
      "| | 1 | 2 | 3 | | x | |\n",
      "| |___|___|___| |___| |\n",
      "| | . | 0 | = | | / | |\n",
      "| |___|___|___| |___| |\n",
      "|_____________________|\n"
     ]
    },
    {
     "name": "stdin",
     "output_type": "stream",
     "text": [
      "What's the 1st number 20\n",
      "'+'\n",
      "'-'\n",
      "'*'\n",
      "'/'\n",
      " /\n",
      "what's the next number 0\n"
     ]
    },
    {
     "name": "stdout",
     "output_type": "stream",
     "text": [
      "Invalid\n"
     ]
    },
    {
     "name": "stdin",
     "output_type": "stream",
     "text": [
      "Type 'y' to repeat with current result.Otherwise 'n' y\n"
     ]
    }
   ],
   "source": [
    "print(r'''_____________________\n",
    "|  _________________  |\n",
    "| |              0. | |\n",
    "| |_________________| |\n",
    "|  ___ ___ ___   ___  |\n",
    "| | 7 | 8 | 9 | | + | |\n",
    "| |___|___|___| |___| |\n",
    "| | 4 | 5 | 6 | | - | |\n",
    "| |___|___|___| |___| |\n",
    "| | 1 | 2 | 3 | | x | |\n",
    "| |___|___|___| |___| |\n",
    "| | . | 0 | = | | / | |\n",
    "| |___|___|___| |___| |\n",
    "|_____________________|''')\n",
    "def calculation(num1,num2,operand):\n",
    "    if operand==\"+\":\n",
    "        result=num1+num2\n",
    "    elif operand==\"-\":\n",
    "        result=num1-num2\n",
    "    elif operand==\"*\":\n",
    "        result=num1*num2\n",
    "    elif operand==\"/\":\n",
    "        if num2==0:\n",
    "            return \"Invalid\"\n",
    "        else:\n",
    "            result=num1/num2\n",
    "    else:\n",
    "        return \"invalid operand\"\n",
    "    return result\n",
    "num1=float(input(\"What's the 1st number\"))\n",
    "while True:\n",
    "    operand=input(\"'+'\\n'-'\\n'*'\\n'/'\\n\")\n",
    "    num2=float(input(\"what's the next number\"))\n",
    "    result=calculation(num1,num2,operand)\n",
    "    print(result)\n",
    "    ch=input(\"Type 'y' to repeat with current result.Otherwise 'n'\").strip().lower()\n",
    "    if ch==\"y\" and result.isdigit():\n",
    "        num1=result\n",
    "    else:\n",
    "        num1=float(input(\"What's the 1st number\"))\n",
    "    \n",
    "        \n",
    "        "
   ]
  },
  {
   "cell_type": "code",
   "execution_count": null,
   "id": "8a62a7e5-182b-4661-8ec3-b7b196ea0d2b",
   "metadata": {},
   "outputs": [],
   "source": []
  }
 ],
 "metadata": {
  "kernelspec": {
   "display_name": "Python 3 (ipykernel)",
   "language": "python",
   "name": "python3"
  },
  "language_info": {
   "codemirror_mode": {
    "name": "ipython",
    "version": 3
   },
   "file_extension": ".py",
   "mimetype": "text/x-python",
   "name": "python",
   "nbconvert_exporter": "python",
   "pygments_lexer": "ipython3",
   "version": "3.12.7"
  }
 },
 "nbformat": 4,
 "nbformat_minor": 5
}
