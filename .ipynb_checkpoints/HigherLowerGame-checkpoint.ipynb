{
 "cells": [
  {
   "cell_type": "code",
   "execution_count": 23,
   "id": "a4f6a81f-73b1-4741-b477-7374c63ec007",
   "metadata": {},
   "outputs": [
    {
     "name": "stdout",
     "output_type": "stream",
     "text": [
      "Requirement already satisfied: art in c:\\users\\iliaz\\anaconda3\\lib\\site-packages (6.5)\n",
      "Note: you may need to restart the kernel to use updated packages.\n"
     ]
    }
   ],
   "source": [
    "pip install art\n"
   ]
  },
  {
   "cell_type": "code",
   "execution_count": 3,
   "id": "ff08498f-9d01-4f24-81b4-7df97fc84584",
   "metadata": {},
   "outputs": [
    {
     "name": "stdout",
     "output_type": "stream",
     "text": [
      " _   _  _         _                   _                                     ____                         \n",
      "| | | |(_)  __ _ | |__    ___  _ __  | |      ___  __      __  ___  _ __   / ___|  __ _  _ __ ___    ___ \n",
      "| |_| || | / _` || '_ \\  / _ \\| '__| | |     / _ \\ \\ \\ /\\ / / / _ \\| '__| | |  _  / _` || '_ ` _ \\  / _ \\\n",
      "|  _  || || (_| || | | ||  __/| |    | |___ | (_) | \\ V  V / |  __/| |    | |_| || (_| || | | | | ||  __/\n",
      "|_| |_||_| \\__, ||_| |_| \\___||_|    |_____| \\___/   \\_/\\_/   \\___||_|     \\____| \\__,_||_| |_| |_| \\___|\n",
      "           |___/                                                                                         \n",
      "\n",
      "{'Youtube': 346, 'facebook': 228, 'amazon': 163.94, 'translate': 141.5, 'whatsapp': 120, 'gmail': 115, 'weather': 110, 'google Translate': 108, 'instagram': 105, 'netflix': 100, 'prime': 99.7}\n",
      "compare A:Youtube\n",
      "\n",
      "\n",
      "__     __     \n",
      "\\ \\   / / ___ \n",
      " \\ \\ / / / __|\n",
      "  \\ V /  \\__ \\\n",
      "   \\_/   |___/\n",
      "              \n",
      "\n",
      "Against B:instagram\n"
     ]
    },
    {
     "name": "stdin",
     "output_type": "stream",
     "text": [
      "Which has high searches on internet? Type 'A' or 'B':  a\n"
     ]
    },
    {
     "name": "stdout",
     "output_type": "stream",
     "text": [
      "Current_Score=1\n",
      "compare A:Youtube\n",
      "\n",
      "\n",
      "__     __     \n",
      "\\ \\   / / ___ \n",
      " \\ \\ / / / __|\n",
      "  \\ V /  \\__ \\\n",
      "   \\_/   |___/\n",
      "              \n",
      "\n",
      "Against B:facebook\n"
     ]
    },
    {
     "name": "stdin",
     "output_type": "stream",
     "text": [
      "Which has high searches on internet? Type 'A' or 'B':  a\n"
     ]
    },
    {
     "name": "stdout",
     "output_type": "stream",
     "text": [
      "Current_Score=2\n",
      "compare A:Youtube\n",
      "\n",
      "\n",
      "__     __     \n",
      "\\ \\   / / ___ \n",
      " \\ \\ / / / __|\n",
      "  \\ V /  \\__ \\\n",
      "   \\_/   |___/\n",
      "              \n",
      "\n",
      "Against B:translate\n"
     ]
    },
    {
     "name": "stdin",
     "output_type": "stream",
     "text": [
      "Which has high searches on internet? Type 'A' or 'B':  a\n"
     ]
    },
    {
     "name": "stdout",
     "output_type": "stream",
     "text": [
      "Current_Score=3\n",
      "compare A:Youtube\n",
      "\n",
      "\n",
      "__     __     \n",
      "\\ \\   / / ___ \n",
      " \\ \\ / / / __|\n",
      "  \\ V /  \\__ \\\n",
      "   \\_/   |___/\n",
      "              \n",
      "\n",
      "Against B:weather\n"
     ]
    },
    {
     "name": "stdin",
     "output_type": "stream",
     "text": [
      "Which has high searches on internet? Type 'A' or 'B':  a\n"
     ]
    },
    {
     "name": "stdout",
     "output_type": "stream",
     "text": [
      "Current_Score=4\n",
      "compare A:Youtube\n",
      "\n",
      "\n",
      "__     __     \n",
      "\\ \\   / / ___ \n",
      " \\ \\ / / / __|\n",
      "  \\ V /  \\__ \\\n",
      "   \\_/   |___/\n",
      "              \n",
      "\n",
      "Against B:whatsapp\n"
     ]
    },
    {
     "name": "stdin",
     "output_type": "stream",
     "text": [
      "Which has high searches on internet? Type 'A' or 'B':  b\n"
     ]
    },
    {
     "name": "stdout",
     "output_type": "stream",
     "text": [
      "OOps!It's wrong\n",
      "****YOU LOSE****\n",
      "Final_Score=4\n"
     ]
    }
   ],
   "source": [
    "from art import tprint\n",
    "tprint(\"Higher Lower Game\")\n",
    "def game(search1,search2,user_input):\n",
    "    if user_input=='A':\n",
    "        return data[search1]>data[search2]\n",
    "    elif user_input=='B':\n",
    "        return data[search2]>data[search1]\n",
    "import random\n",
    "data={\"Youtube\":346,\"facebook\":228,\"amazon\":163.94,\"translate\":141.5,\"whatsapp\":120,\"gmail\":115,\n",
    "        \"weather\":110,\"google Translate\":108,\"instagram\":105,\"netflix\":100,\"prime\":99.7}\n",
    "# keys=[]\n",
    "# for key in data:\n",
    "#     keys.append(key)\n",
    "keys=list(data.keys())\n",
    "score=0\n",
    "A=random.choice(keys)\n",
    "while True:\n",
    "    print(f\"compare A:{A}\")\n",
    "    tprint(\"\\n\\nVs\")\n",
    "    while True:\n",
    "        B=random.choice(keys)\n",
    "        if B!=A:\n",
    "            break\n",
    "    print(f\"Against B:{B}\")\n",
    "    while True:\n",
    "        user_input = input(\"Which has high searches on internet? Type 'A' or 'B': \").strip().upper()\n",
    "        if user_input in ['A', 'B']:\n",
    "            break\n",
    "        else:\n",
    "            print(\"Invalid input. Please enter either 'A' or 'B'.\")\n",
    "    result=game(A,B,user_input)\n",
    "    if result==False:\n",
    "        print(\"OOps!It's wrong\\n****YOU LOSE****\")\n",
    "        break\n",
    "    A = A if (user_input == 'A' and data[A] > data[B]) else B\n",
    "    score+=1\n",
    "    print(f\"Current_Score={score}\")\n",
    "print(f\"Final_Score={score}\")\n",
    "    "
   ]
  },
  {
   "cell_type": "code",
   "execution_count": null,
   "id": "eb92a6e6-5909-4034-bcb5-f68e85977342",
   "metadata": {},
   "outputs": [],
   "source": [
    "from game_data import data\n",
    "print(data)"
   ]
  },
  {
   "cell_type": "code",
   "execution_count": null,
   "id": "46006c69-9087-4bd2-93b2-5256ad71f9ca",
   "metadata": {},
   "outputs": [],
   "source": []
  },
  {
   "cell_type": "code",
   "execution_count": null,
   "id": "23efe12f-cbd1-4fcd-bb12-3cc1d19bd7b2",
   "metadata": {},
   "outputs": [],
   "source": []
  }
 ],
 "metadata": {
  "kernelspec": {
   "display_name": "Python 3 (ipykernel)",
   "language": "python",
   "name": "python3"
  },
  "language_info": {
   "codemirror_mode": {
    "name": "ipython",
    "version": 3
   },
   "file_extension": ".py",
   "mimetype": "text/x-python",
   "name": "python",
   "nbconvert_exporter": "python",
   "pygments_lexer": "ipython3",
   "version": "3.12.7"
  }
 },
 "nbformat": 4,
 "nbformat_minor": 5
}
