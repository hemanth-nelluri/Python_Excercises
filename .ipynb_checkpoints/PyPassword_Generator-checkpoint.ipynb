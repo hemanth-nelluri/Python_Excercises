{
 "cells": [
  {
   "cell_type": "code",
   "execution_count": null,
   "id": "9ac195b6-6302-4aad-b596-790b2d408d74",
   "metadata": {},
   "outputs": [
    {
     "name": "stdout",
     "output_type": "stream",
     "text": [
      "Welcome to PyPassword Generator\n"
     ]
    }
   ],
   "source": [
    "import string\n",
    "import random\n",
    "letters=string.ascii_letters\n",
    "symbols=string.punctuation\n",
    "digits=string.digits\n",
    "print(\"Welcome to PyPassword Generator\")\n",
    "num_letters=int(input(\"How many letters would u like to want in ur password?\"))\n",
    "num_symbols=int(input(\"How many symbols would u like?\"))\n",
    "num_digits=int(input(\"How many digits would u like?\"))\n",
    "rand_symbols=random.choices(symbols,k=num_symbols)\n",
    "rand_digits=random.choices(digits,k=num_digits)\n",
    "rand_letters=random.choices(letters,k=num_letters)\n",
    "random_password=rand_symbols+rand_digits+rand_letters\n",
    "while True:\n",
    "    password=random.shuffle(random_password)\n",
    "    password=''.join(random_password)\n",
    "    print(\"your password is:\")\n",
    "    print(password)\n",
    "    ch=input(\"Want more options?Type 'Y' for yes and 'N' for NO :\\n\").strip().upper()\n",
    "    if ch=='N':\n",
    "        break\n",
    "    elif ch!='Y'\n",
    "        print(\"Please Type 'Y' or 'N'.exiting\")\n",
    "        break\n",
    "\n",
    "   \n",
    "    "
   ]
  },
  {
   "cell_type": "code",
   "execution_count": null,
   "id": "43e217c6-1887-47b8-997d-a8e692f2ef5b",
   "metadata": {},
   "outputs": [],
   "source": []
  }
 ],
 "metadata": {
  "kernelspec": {
   "display_name": "Python 3 (ipykernel)",
   "language": "python",
   "name": "python3"
  },
  "language_info": {
   "codemirror_mode": {
    "name": "ipython",
    "version": 3
   },
   "file_extension": ".py",
   "mimetype": "text/x-python",
   "name": "python",
   "nbconvert_exporter": "python",
   "pygments_lexer": "ipython3",
   "version": "3.12.7"
  }
 },
 "nbformat": 4,
 "nbformat_minor": 5
}
