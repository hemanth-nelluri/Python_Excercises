{
 "cells": [
  {
   "cell_type": "code",
   "execution_count": null,
   "id": "bcdbf353-ad75-4123-b1bc-3f433dffe244",
   "metadata": {},
   "outputs": [
    {
     "name": "stdout",
     "output_type": "stream",
     "text": [
      "Welcome to the game of Hangman:)\n",
      "\n",
      "Word:  -----\n",
      "lives:5\n"
     ]
    },
    {
     "name": "stdin",
     "output_type": "stream",
     "text": [
      "guess the letter in word: k\n"
     ]
    },
    {
     "name": "stdout",
     "output_type": "stream",
     "text": [
      "      _______\n",
      "     |/      |\n",
      "     |      (_)\n",
      "     |      \\|/\n",
      "     |       |\n",
      "     |      / \\\n",
      "     |\n",
      "    _|___\n",
      "\n",
      "Word:  -----\n",
      "lives:4\n"
     ]
    }
   ],
   "source": [
    "import random\n",
    "import string\n",
    "hangman=r'''      _______\n",
    "     |/      |\n",
    "     |      (_)\n",
    "     |      \\|/\n",
    "     |       |\n",
    "     |      / \\\n",
    "     |\n",
    "    _|___'''\n",
    "words = [\n",
    "    \"apple\", \"banana\", \"orange\", \"grape\", \"pear\", \"peach\", \"plum\", \"lemon\", \"lime\", \"mango\",\n",
    "    \"cat\", \"dog\", \"mouse\", \"horse\", \"sheep\", \"goat\", \"cow\", \"pig\", \"rabbit\", \"chicken\",\n",
    "    \"car\", \"truck\", \"bike\", \"train\", \"plane\", \"boat\", \"bus\", \"van\", \"scooter\", \"subway\",\n",
    "    \"red\", \"blue\", \"green\", \"yellow\", \"purple\", \"orange\", \"white\", \"black\", \"brown\", \"pink\",\n",
    "    \"table\", \"chair\", \"couch\", \"desk\", \"bed\", \"shelf\", \"cabinet\", \"drawer\", \"lamp\", \"clock\",\n",
    "    \"run\", \"jump\", \"walk\", \"swim\", \"fly\", \"crawl\", \"climb\", \"drive\", \"read\", \"write\",\n",
    "    \"happy\", \"sad\", \"angry\", \"excited\", \"bored\", \"tired\", \"nervous\", \"scared\", \"brave\", \"curious\",\n",
    "    \"water\", \"milk\", \"juice\", \"tea\", \"coffee\", \"soda\", \"wine\", \"beer\", \"smoothie\", \"lemonade\",\n",
    "    \"sun\", \"moon\", \"star\", \"sky\", \"cloud\", \"rain\", \"snow\", \"storm\", \"wind\", \"fog\",\n",
    "    \"school\", \"teacher\", \"student\", \"class\", \"book\", \"pencil\", \"paper\", \"board\", \"lesson\", \"homework\"\n",
    "]\n",
    "print(\"Welcome to the game of Hangman:)\")\n",
    "random_word=random.choice(words)\n",
    "#print(random_word)\n",
    "lives=5\n",
    "display=['-' for _ in range(len(random_word))]\n",
    "guessed_word=[]\n",
    "while '-' in display and lives>0:\n",
    "    print(\"\\nWord: \",''.join(display))\n",
    "    print(f\"lives:{lives}\")\n",
    "    guess_letter=input(\"guess the letter in word:\").strip().lower()\n",
    "    if not guess_letter.isalpha() or len(guess_letter) != 1:\n",
    "        print(\"Invalid input! Please enter a single letter (a-z).\")\n",
    "        continue\n",
    "    elif guess_letter in guessed_word:\n",
    "        print(\"You already guessed it.\")\n",
    "        continue\n",
    "    guessed_word.append(guess_letter)\n",
    "    if guess_letter in random_word:\n",
    "        for i in range(len(random_word)):\n",
    "            if random_word[i]==guess_letter:\n",
    "                display[i]=guess_letter\n",
    "    else:\n",
    "        lives-=1\n",
    "        print(hangman)\n",
    "correct_word=''.join(display)\n",
    "if correct_word==random_word:\n",
    "    print(correct_word)\n",
    "    print(\"HOORAYYY!You guessed word correctly\")\n",
    "else:\n",
    "    print(\"you lose.correct word is \"+random_word)"
   ]
  },
  {
   "cell_type": "code",
   "execution_count": null,
   "id": "68c83f05-344f-4da7-82d0-d522089ca759",
   "metadata": {},
   "outputs": [],
   "source": []
  },
  {
   "cell_type": "code",
   "execution_count": null,
   "id": "5139483e-cd72-4f84-b410-3d4e53bf3124",
   "metadata": {},
   "outputs": [],
   "source": []
  },
  {
   "cell_type": "code",
   "execution_count": null,
   "id": "6473f28a-08be-4fd5-8607-47760873fd58",
   "metadata": {},
   "outputs": [],
   "source": []
  }
 ],
 "metadata": {
  "kernelspec": {
   "display_name": "Python 3 (ipykernel)",
   "language": "python",
   "name": "python3"
  },
  "language_info": {
   "codemirror_mode": {
    "name": "ipython",
    "version": 3
   },
   "file_extension": ".py",
   "mimetype": "text/x-python",
   "name": "python",
   "nbconvert_exporter": "python",
   "pygments_lexer": "ipython3",
   "version": "3.12.7"
  }
 },
 "nbformat": 4,
 "nbformat_minor": 5
}
