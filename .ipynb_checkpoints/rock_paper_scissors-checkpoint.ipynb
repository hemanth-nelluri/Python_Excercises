{
 "cells": [
  {
   "cell_type": "code",
   "execution_count": 9,
   "id": "89dfa5cf-17f0-4cf4-ae93-b2c064d8f610",
   "metadata": {},
   "outputs": [
    {
     "data": {
      "text/html": [
       "<pre style=\"white-space:pre;overflow-x:auto;line-height:normal;font-family:Menlo,'DejaVu Sans Mono',consolas,'Courier New',monospace\">welcome to rock_paper_scissors game\n",
       "</pre>\n"
      ],
      "text/plain": [
       "welcome to rock_paper_scissors game\n"
      ]
     },
     "metadata": {},
     "output_type": "display_data"
    },
    {
     "name": "stdin",
     "output_type": "stream",
     "text": [
      "enter your name: pooji\n"
     ]
    },
    {
     "data": {
      "text/html": [
       "<pre style=\"white-space:pre;overflow-x:auto;line-height:normal;font-family:Menlo,'DejaVu Sans Mono',consolas,'Courier New',monospace\"></pre>\n"
      ],
      "text/plain": []
     },
     "metadata": {},
     "output_type": "display_data"
    },
    {
     "ename": "MarkupError",
     "evalue": "closing tag '[/]' at position 10 has nothing to close",
     "output_type": "error",
     "traceback": [
      "\u001b[1;31m---------------------------------------------------------------------------\u001b[0m",
      "\u001b[1;31mMarkupError\u001b[0m                               Traceback (most recent call last)",
      "Cell \u001b[1;32mIn[9], line 32\u001b[0m\n\u001b[0;32m     30\u001b[0m \u001b[38;5;28mprint\u001b[39m(\u001b[38;5;124m\"\u001b[39m\u001b[38;5;124mwelcome to rock_paper_scissors game\u001b[39m\u001b[38;5;124m\"\u001b[39m)\n\u001b[0;32m     31\u001b[0m name\u001b[38;5;241m=\u001b[39m\u001b[38;5;28minput\u001b[39m(\u001b[38;5;124m\"\u001b[39m\u001b[38;5;124menter your name:\u001b[39m\u001b[38;5;124m\"\u001b[39m)\n\u001b[1;32m---> 32\u001b[0m \u001b[38;5;28mprint\u001b[39m(\u001b[38;5;124m\"\u001b[39m\u001b[38;5;124m[RED]\u001b[39m\u001b[38;5;124m\"\u001b[39m\u001b[38;5;241m+\u001b[39mname\u001b[38;5;241m+\u001b[39m\u001b[38;5;124m\"\u001b[39m\u001b[38;5;124m[/]\u001b[39m\u001b[38;5;124m\"\u001b[39m)\n\u001b[0;32m     33\u001b[0m player1\u001b[38;5;241m=\u001b[39m\u001b[38;5;28minput\u001b[39m(\u001b[38;5;124m'\u001b[39m\u001b[38;5;124mselect \u001b[39m\u001b[38;5;124m\"\u001b[39m\u001b[38;5;124mrock\u001b[39m\u001b[38;5;124m\"\u001b[39m\u001b[38;5;124m or \u001b[39m\u001b[38;5;124m\"\u001b[39m\u001b[38;5;124mpaper\u001b[39m\u001b[38;5;124m\"\u001b[39m\u001b[38;5;124m or \u001b[39m\u001b[38;5;124m\"\u001b[39m\u001b[38;5;124mscissors\u001b[39m\u001b[38;5;124m\"\u001b[39m\u001b[38;5;124m'\u001b[39m)\n\u001b[0;32m     34\u001b[0m p1\u001b[38;5;241m=\u001b[39mlist1\u001b[38;5;241m.\u001b[39mindex(player1)\n",
      "File \u001b[1;32m~\\anaconda3\\Lib\\site-packages\\rich\\__init__.py:74\u001b[0m, in \u001b[0;36mprint\u001b[1;34m(sep, end, file, flush, *objects)\u001b[0m\n\u001b[0;32m     71\u001b[0m \u001b[38;5;28;01mfrom\u001b[39;00m \u001b[38;5;21;01m.\u001b[39;00m\u001b[38;5;21;01mconsole\u001b[39;00m \u001b[38;5;28;01mimport\u001b[39;00m Console\n\u001b[0;32m     73\u001b[0m write_console \u001b[38;5;241m=\u001b[39m get_console() \u001b[38;5;28;01mif\u001b[39;00m file \u001b[38;5;129;01mis\u001b[39;00m \u001b[38;5;28;01mNone\u001b[39;00m \u001b[38;5;28;01melse\u001b[39;00m Console(file\u001b[38;5;241m=\u001b[39mfile)\n\u001b[1;32m---> 74\u001b[0m \u001b[38;5;28;01mreturn\u001b[39;00m write_console\u001b[38;5;241m.\u001b[39mprint(\u001b[38;5;241m*\u001b[39mobjects, sep\u001b[38;5;241m=\u001b[39msep, end\u001b[38;5;241m=\u001b[39mend)\n",
      "File \u001b[1;32m~\\anaconda3\\Lib\\site-packages\\rich\\console.py:1674\u001b[0m, in \u001b[0;36mConsole.print\u001b[1;34m(self, sep, end, style, justify, overflow, no_wrap, emoji, markup, highlight, width, height, crop, soft_wrap, new_line_start, *objects)\u001b[0m\n\u001b[0;32m   1672\u001b[0m render_hooks \u001b[38;5;241m=\u001b[39m \u001b[38;5;28mself\u001b[39m\u001b[38;5;241m.\u001b[39m_render_hooks[:]\n\u001b[0;32m   1673\u001b[0m \u001b[38;5;28;01mwith\u001b[39;00m \u001b[38;5;28mself\u001b[39m:\n\u001b[1;32m-> 1674\u001b[0m     renderables \u001b[38;5;241m=\u001b[39m \u001b[38;5;28mself\u001b[39m\u001b[38;5;241m.\u001b[39m_collect_renderables(\n\u001b[0;32m   1675\u001b[0m         objects,\n\u001b[0;32m   1676\u001b[0m         sep,\n\u001b[0;32m   1677\u001b[0m         end,\n\u001b[0;32m   1678\u001b[0m         justify\u001b[38;5;241m=\u001b[39mjustify,\n\u001b[0;32m   1679\u001b[0m         emoji\u001b[38;5;241m=\u001b[39memoji,\n\u001b[0;32m   1680\u001b[0m         markup\u001b[38;5;241m=\u001b[39mmarkup,\n\u001b[0;32m   1681\u001b[0m         highlight\u001b[38;5;241m=\u001b[39mhighlight,\n\u001b[0;32m   1682\u001b[0m     )\n\u001b[0;32m   1683\u001b[0m     \u001b[38;5;28;01mfor\u001b[39;00m hook \u001b[38;5;129;01min\u001b[39;00m render_hooks:\n\u001b[0;32m   1684\u001b[0m         renderables \u001b[38;5;241m=\u001b[39m hook\u001b[38;5;241m.\u001b[39mprocess_renderables(renderables)\n",
      "File \u001b[1;32m~\\anaconda3\\Lib\\site-packages\\rich\\console.py:1538\u001b[0m, in \u001b[0;36mConsole._collect_renderables\u001b[1;34m(self, objects, sep, end, justify, emoji, markup, highlight)\u001b[0m\n\u001b[0;32m   1535\u001b[0m renderable \u001b[38;5;241m=\u001b[39m rich_cast(renderable)\n\u001b[0;32m   1536\u001b[0m \u001b[38;5;28;01mif\u001b[39;00m \u001b[38;5;28misinstance\u001b[39m(renderable, \u001b[38;5;28mstr\u001b[39m):\n\u001b[0;32m   1537\u001b[0m     append_text(\n\u001b[1;32m-> 1538\u001b[0m         \u001b[38;5;28mself\u001b[39m\u001b[38;5;241m.\u001b[39mrender_str(\n\u001b[0;32m   1539\u001b[0m             renderable, emoji\u001b[38;5;241m=\u001b[39memoji, markup\u001b[38;5;241m=\u001b[39mmarkup, highlighter\u001b[38;5;241m=\u001b[39m_highlighter\n\u001b[0;32m   1540\u001b[0m         )\n\u001b[0;32m   1541\u001b[0m     )\n\u001b[0;32m   1542\u001b[0m \u001b[38;5;28;01melif\u001b[39;00m \u001b[38;5;28misinstance\u001b[39m(renderable, Text):\n\u001b[0;32m   1543\u001b[0m     append_text(renderable)\n",
      "File \u001b[1;32m~\\anaconda3\\Lib\\site-packages\\rich\\console.py:1430\u001b[0m, in \u001b[0;36mConsole.render_str\u001b[1;34m(self, text, style, justify, overflow, emoji, markup, highlight, highlighter)\u001b[0m\n\u001b[0;32m   1427\u001b[0m highlight_enabled \u001b[38;5;241m=\u001b[39m highlight \u001b[38;5;129;01mor\u001b[39;00m (highlight \u001b[38;5;129;01mis\u001b[39;00m \u001b[38;5;28;01mNone\u001b[39;00m \u001b[38;5;129;01mand\u001b[39;00m \u001b[38;5;28mself\u001b[39m\u001b[38;5;241m.\u001b[39m_highlight)\n\u001b[0;32m   1429\u001b[0m \u001b[38;5;28;01mif\u001b[39;00m markup_enabled:\n\u001b[1;32m-> 1430\u001b[0m     rich_text \u001b[38;5;241m=\u001b[39m render_markup(\n\u001b[0;32m   1431\u001b[0m         text,\n\u001b[0;32m   1432\u001b[0m         style\u001b[38;5;241m=\u001b[39mstyle,\n\u001b[0;32m   1433\u001b[0m         emoji\u001b[38;5;241m=\u001b[39memoji_enabled,\n\u001b[0;32m   1434\u001b[0m         emoji_variant\u001b[38;5;241m=\u001b[39m\u001b[38;5;28mself\u001b[39m\u001b[38;5;241m.\u001b[39m_emoji_variant,\n\u001b[0;32m   1435\u001b[0m     )\n\u001b[0;32m   1436\u001b[0m     rich_text\u001b[38;5;241m.\u001b[39mjustify \u001b[38;5;241m=\u001b[39m justify\n\u001b[0;32m   1437\u001b[0m     rich_text\u001b[38;5;241m.\u001b[39moverflow \u001b[38;5;241m=\u001b[39m overflow\n",
      "File \u001b[1;32m~\\anaconda3\\Lib\\site-packages\\rich\\markup.py:174\u001b[0m, in \u001b[0;36mrender\u001b[1;34m(markup, style, emoji, emoji_variant)\u001b[0m\n\u001b[0;32m    172\u001b[0m         start, open_tag \u001b[38;5;241m=\u001b[39m pop()\n\u001b[0;32m    173\u001b[0m     \u001b[38;5;28;01mexcept\u001b[39;00m \u001b[38;5;167;01mIndexError\u001b[39;00m:\n\u001b[1;32m--> 174\u001b[0m         \u001b[38;5;28;01mraise\u001b[39;00m MarkupError(\n\u001b[0;32m    175\u001b[0m             \u001b[38;5;124mf\u001b[39m\u001b[38;5;124m\"\u001b[39m\u001b[38;5;124mclosing tag \u001b[39m\u001b[38;5;124m'\u001b[39m\u001b[38;5;124m[/]\u001b[39m\u001b[38;5;124m'\u001b[39m\u001b[38;5;124m at position \u001b[39m\u001b[38;5;132;01m{\u001b[39;00mposition\u001b[38;5;132;01m}\u001b[39;00m\u001b[38;5;124m has nothing to close\u001b[39m\u001b[38;5;124m\"\u001b[39m\n\u001b[0;32m    176\u001b[0m         ) \u001b[38;5;28;01mfrom\u001b[39;00m \u001b[38;5;28;01mNone\u001b[39;00m\n\u001b[0;32m    178\u001b[0m \u001b[38;5;28;01mif\u001b[39;00m open_tag\u001b[38;5;241m.\u001b[39mname\u001b[38;5;241m.\u001b[39mstartswith(\u001b[38;5;124m\"\u001b[39m\u001b[38;5;124m@\u001b[39m\u001b[38;5;124m\"\u001b[39m):\n\u001b[0;32m    179\u001b[0m     \u001b[38;5;28;01mif\u001b[39;00m open_tag\u001b[38;5;241m.\u001b[39mparameters:\n",
      "\u001b[1;31mMarkupError\u001b[0m: closing tag '[/]' at position 10 has nothing to close"
     ]
    }
   ],
   "source": [
    "import random\n",
    "rock_img=\"\"\"\n",
    "    _______\n",
    "---'   ____)\n",
    "      (_____)\n",
    "      (_____)\n",
    "      (____)\n",
    "---.__(___)\n",
    "\"\"\"\n",
    "paper_img=\"\"\"\n",
    "     _______\n",
    "---'    ____)____\n",
    "           ______)\n",
    "          _______)\n",
    "         _______)\n",
    "---.__________)\n",
    "\"\"\"\n",
    "\n",
    "scissors_img=\"\"\"\n",
    "    _______\n",
    "---'   ____)____\n",
    "          ______)\n",
    "       __________)\n",
    "      (____)\n",
    "---.__(___)\n",
    "\"\"\"\n",
    "game_imgs=[rock_img,paper_img,scissors_img]\n",
    "list1=[\"rock\",\"paper\",\"scissors\"]\n",
    "print(\"welcome to rock_paper_scissors game\")\n",
    "name=input(\"enter your name:\")\n",
    "print(name)\n",
    "player1=input('select \"rock\" or \"paper\" or \"scissors\"')\n",
    "p1=list1.index(player1)\n",
    "print(game_imgs[p1])\n",
    "print(\"computer\")\n",
    "player2=list1[random.randint(0,1)]\n",
    "p2=list1.index(player2)\n",
    "print(game_imgs[p2])\n",
    "if player1==player2:\n",
    "    print(\"draw.\")\n",
    "else:\n",
    "    if player1==\"rock\":\n",
    "        if player2==\"paper\":\n",
    "            print(\"computer wins.\\nBetter Luck Next Time :(\")\n",
    "        else:\n",
    "            print(\"Hurray!You Won :)\")\n",
    "    if player1==\"paper\":\n",
    "        if player2==\"rock\":\n",
    "            print(\"computer wins.\\nBetter Luck Next Time :(\")\n",
    "        else:\n",
    "            print(\"Hurray!You Won :)\")\n",
    "    if player1==\"scissors\":\n",
    "        if player2==\"rock\":\n",
    "            print(\"computer wins.\\nBetter Luck Next Time :(\")\n",
    "        else:\n",
    "            print(\"Hurray!You Won :)\")\n",
    "\n",
    "\n",
    "\n",
    "            \n",
    "        \n",
    "\n",
    "    \n",
    "\n",
    "\n"
   ]
  },
  {
   "cell_type": "code",
   "execution_count": null,
   "id": "f3c26858-df5b-44e5-97ce-514d582c71b5",
   "metadata": {},
   "outputs": [],
   "source": []
  }
 ],
 "metadata": {
  "kernelspec": {
   "display_name": "Python 3 (ipykernel)",
   "language": "python",
   "name": "python3"
  },
  "language_info": {
   "codemirror_mode": {
    "name": "ipython",
    "version": 3
   },
   "file_extension": ".py",
   "mimetype": "text/x-python",
   "name": "python",
   "nbconvert_exporter": "python",
   "pygments_lexer": "ipython3",
   "version": "3.12.7"
  }
 },
 "nbformat": 4,
 "nbformat_minor": 5
}
