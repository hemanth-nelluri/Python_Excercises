{
 "cells": [
  {
   "cell_type": "code",
   "execution_count": 22,
   "id": "ff08498f-9d01-4f24-81b4-7df97fc84584",
   "metadata": {},
   "outputs": [
    {
     "name": "stdout",
     "output_type": "stream",
     "text": [
      "compare A:amazon\n",
      "compare B:translate\n"
     ]
    },
    {
     "name": "stdin",
     "output_type": "stream",
     "text": [
      "Which has high searches on internet? Type 'A' or 'B':  a\n"
     ]
    },
    {
     "name": "stdout",
     "output_type": "stream",
     "text": [
      "Current_Score=1\n",
      "compare A:gmail\n",
      "compare B:weather\n"
     ]
    },
    {
     "name": "stdin",
     "output_type": "stream",
     "text": [
      "Which has high searches on internet? Type 'A' or 'B':  a\n"
     ]
    },
    {
     "name": "stdout",
     "output_type": "stream",
     "text": [
      "Current_Score=2\n",
      "compare A:facebook\n",
      "compare B:netflix\n"
     ]
    },
    {
     "name": "stdin",
     "output_type": "stream",
     "text": [
      "Which has high searches on internet? Type 'A' or 'B':  a\n"
     ]
    },
    {
     "name": "stdout",
     "output_type": "stream",
     "text": [
      "Current_Score=3\n",
      "compare A:gmail\n",
      "compare B:Youtube\n"
     ]
    },
    {
     "name": "stdin",
     "output_type": "stream",
     "text": [
      "Which has high searches on internet? Type 'A' or 'B':  b\n"
     ]
    },
    {
     "name": "stdout",
     "output_type": "stream",
     "text": [
      "Current_Score=4\n",
      "compare A:whatsapp\n",
      "compare B:translate\n"
     ]
    },
    {
     "name": "stdin",
     "output_type": "stream",
     "text": [
      "Which has high searches on internet? Type 'A' or 'B':  a\n"
     ]
    },
    {
     "name": "stdout",
     "output_type": "stream",
     "text": [
      "OOps!It's wrong\n",
      "****YOU LOSE****\n",
      "Final_Score=4\n"
     ]
    }
   ],
   "source": [
    "def game(search1,search2,user_input):\n",
    "    if user_input=='A':\n",
    "        return data[search1]>=data[search2]\n",
    "    elif user_input=='B':\n",
    "        return data[search2]>=data[search1]\n",
    "import random\n",
    "data={\"Youtube\":346,\"facebook\":228,\"amazon\":163.94,\"translate\":141.5,\"whatsapp\":120,\"gmail\":115,\n",
    "        \"weather\":110,\"google Translate\":108,\"instagram\":105,\"netflix\":100}\n",
    "# keys=[]\n",
    "# for key in data:\n",
    "#     keys.append(key)\n",
    "keys=list(data.keys())\n",
    "score=0\n",
    "while True:\n",
    "    A=random.choice(keys)\n",
    "    print(f\"compare A:{A}\")\n",
    "    while True:\n",
    "        B=random.choice(keys)\n",
    "        if B!=A:\n",
    "            break\n",
    "    print(f\"compare B:{B}\")\n",
    "    while True:\n",
    "        user_input = input(\"Which has high searches on internet? Type 'A' or 'B': \").strip().upper()\n",
    "        if user_input in ['A', 'B']:\n",
    "            break\n",
    "        else:\n",
    "            print(\"Invalid input. Please enter either 'A' or 'B'.\")\n",
    "    result=game(A,B,user_input)\n",
    "    if result==False:\n",
    "        print(\"OOps!It's wrong\\n****YOU LOSE****\")\n",
    "        break\n",
    "    score+=1\n",
    "    print(f\"Current_Score={score}\")\n",
    "print(f\"Final_Score={score}\")\n",
    "    "
   ]
  },
  {
   "cell_type": "code",
   "execution_count": null,
   "id": "eb92a6e6-5909-4034-bcb5-f68e85977342",
   "metadata": {},
   "outputs": [],
   "source": []
  }
 ],
 "metadata": {
  "kernelspec": {
   "display_name": "Python 3 (ipykernel)",
   "language": "python",
   "name": "python3"
  },
  "language_info": {
   "codemirror_mode": {
    "name": "ipython",
    "version": 3
   },
   "file_extension": ".py",
   "mimetype": "text/x-python",
   "name": "python",
   "nbconvert_exporter": "python",
   "pygments_lexer": "ipython3",
   "version": "3.12.7"
  }
 },
 "nbformat": 4,
 "nbformat_minor": 5
}
