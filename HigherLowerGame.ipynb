{
 "cells": [
  {
   "cell_type": "code",
   "execution_count": 23,
   "id": "a4f6a81f-73b1-4741-b477-7374c63ec007",
   "metadata": {},
   "outputs": [
    {
     "name": "stdout",
     "output_type": "stream",
     "text": [
      "Requirement already satisfied: art in c:\\users\\iliaz\\anaconda3\\lib\\site-packages (6.5)\n",
      "Note: you may need to restart the kernel to use updated packages.\n"
     ]
    }
   ],
   "source": [
    "pip install art\n"
   ]
  },
  {
   "cell_type": "code",
   "execution_count": 1,
   "id": "ff08498f-9d01-4f24-81b4-7df97fc84584",
   "metadata": {},
   "outputs": [
    {
     "name": "stdout",
     "output_type": "stream",
     "text": [
      " _   _  _         _                   _                                     ____                         \n",
      "| | | |(_)  __ _ | |__    ___  _ __  | |      ___  __      __  ___  _ __   / ___|  __ _  _ __ ___    ___ \n",
      "| |_| || | / _` || '_ \\  / _ \\| '__| | |     / _ \\ \\ \\ /\\ / / / _ \\| '__| | |  _  / _` || '_ ` _ \\  / _ \\\n",
      "|  _  || || (_| || | | ||  __/| |    | |___ | (_) | \\ V  V / |  __/| |    | |_| || (_| || | | | | ||  __/\n",
      "|_| |_||_| \\__, ||_| |_| \\___||_|    |_____| \\___/   \\_/\\_/   \\___||_|     \\____| \\__,_||_| |_| |_| \\___|\n",
      "           |___/                                                                                         \n",
      "\n",
      "compare A:National Geographic is a Magazine and TV network from United States\n",
      "\n",
      "\n",
      "__     __     \n",
      "\\ \\   / / ___ \n",
      " \\ \\ / / / __|\n",
      "  \\ V /  \\__ \\\n",
      "   \\_/   |___/\n",
      "              \n",
      "\n",
      "Against B:Instagram is a Social media platform from United States\n"
     ]
    },
    {
     "name": "stdin",
     "output_type": "stream",
     "text": [
      "Which has high searches on internet? Type 'A' or 'B':  B\n"
     ]
    },
    {
     "name": "stdout",
     "output_type": "stream",
     "text": [
      "Current_Score=1\n",
      "compare A:Instagram is a Social media platform from United States\n",
      "\n",
      "\n",
      "__     __     \n",
      "\\ \\   / / ___ \n",
      " \\ \\ / / / __|\n",
      "  \\ V /  \\__ \\\n",
      "   \\_/   |___/\n",
      "              \n",
      "\n",
      "Against B:Kendall Jenner is a Model and TV personality from United States\n"
     ]
    },
    {
     "name": "stdin",
     "output_type": "stream",
     "text": [
      "Which has high searches on internet? Type 'A' or 'B':  b\n"
     ]
    },
    {
     "name": "stdout",
     "output_type": "stream",
     "text": [
      "OOps!It's wrong\n",
      "****YOU LOSE****\n",
      "Final_Score=1\n"
     ]
    }
   ],
   "source": [
    "from art import tprint\n",
    "tprint(\"Higher Lower Game\")\n",
    "def game(A,B,user_input):\n",
    "    if user_input=='A':\n",
    "        return A['follower_count'] > B['follower_count']\n",
    "    elif user_input=='B':\n",
    "        return B['follower_count'] > A['follower_count']\n",
    "import random\n",
    "data = [\n",
    "    {\n",
    "        'name': 'Instagram',\n",
    "        'follower_count': 650,\n",
    "        'description': 'Social media platform',\n",
    "        'country': 'United States'\n",
    "    },\n",
    "    {\n",
    "        'name': 'Cristiano Ronaldo',\n",
    "        'follower_count': 630,\n",
    "        'description': 'Footballer',\n",
    "        'country': 'Portugal'\n",
    "    },\n",
    "    {\n",
    "        'name': 'Lionel Messi',\n",
    "        'follower_count': 500,\n",
    "        'description': 'Footballer',\n",
    "        'country': 'Argentina'\n",
    "    },\n",
    "    {\n",
    "        'name': 'Selena Gomez',\n",
    "        'follower_count': 430,\n",
    "        'description': 'Musician and actress',\n",
    "        'country': 'United States'\n",
    "    },\n",
    "    {\n",
    "        'name': 'Kylie Jenner',\n",
    "        'follower_count': 460,\n",
    "        'description': 'Reality TV personality and businesswoman',\n",
    "        'country': 'United States'\n",
    "    },\n",
    "    {\n",
    "        'name': 'Dwayne Johnson',\n",
    "        'follower_count': 390,\n",
    "        'description': 'Actor and professional wrestler',\n",
    "        'country': 'United States'\n",
    "    },\n",
    "    {\n",
    "        'name': 'Ariana Grande',\n",
    "        'follower_count': 380,\n",
    "        'description': 'Musician and actress',\n",
    "        'country': 'United States'\n",
    "    },\n",
    "    {\n",
    "        'name': 'YouTube',\n",
    "        'follower_count': 410,\n",
    "        'description': 'Video sharing platform',\n",
    "        'country': 'United States'\n",
    "    },\n",
    "    {\n",
    "        'name': 'Nike',\n",
    "        'follower_count': 310,\n",
    "        'description': 'Sportswear brand',\n",
    "        'country': 'United States'\n",
    "    },\n",
    "    {\n",
    "        'name': 'National Geographic',\n",
    "        'follower_count': 250,\n",
    "        'description': 'Magazine and TV network',\n",
    "        'country': 'United States'\n",
    "    },\n",
    "    {\n",
    "        'name': 'Justin Bieber',\n",
    "        'follower_count': 290,\n",
    "        'description': 'Musician',\n",
    "        'country': 'Canada'\n",
    "    },\n",
    "    {\n",
    "        'name': 'Kim Kardashian',\n",
    "        'follower_count': 340,\n",
    "        'description': 'Reality TV star and businesswoman',\n",
    "        'country': 'United States'\n",
    "    },\n",
    "    {\n",
    "        'name': 'Taylor Swift',\n",
    "        'follower_count': 320,\n",
    "        'description': 'Musician',\n",
    "        'country': 'United States'\n",
    "    },\n",
    "    {\n",
    "        'name': 'Kendall Jenner',\n",
    "        'follower_count': 290,\n",
    "        'description': 'Model and TV personality',\n",
    "        'country': 'United States'\n",
    "    },\n",
    "    {\n",
    "        'name': 'Beyoncé',\n",
    "        'follower_count': 270,\n",
    "        'description': 'Singer and actress',\n",
    "        'country': 'United States'\n",
    "    },\n",
    "]\n",
    "score=0\n",
    "A=random.choice(data)\n",
    "\n",
    "while True:\n",
    "    print(f\"compare A:{A['name']} is a {A['description']} from {A['country']}\")\n",
    "    tprint(\"\\n\\nVs\")\n",
    "    while True:\n",
    "        B=random.choice(data)\n",
    "        if B!=A:\n",
    "            break\n",
    "    print(f\"Against B:{B['name']} is a {B['description']} from {B['country']}\")\n",
    "    while True:\n",
    "        user_input = input(\"Which has high searches on internet? Type 'A' or 'B': \").strip().upper()\n",
    "        if user_input in ['A', 'B']:\n",
    "            break\n",
    "        else:\n",
    "            print(\"Invalid input. Please enter either 'A' or 'B'.\")\n",
    "    result=game(A,B,user_input)\n",
    "    if result==False:\n",
    "        print(\"OOps!It's wrong\\n****YOU LOSE****\")\n",
    "        break\n",
    "    A = A if (user_input == 'A' and A['follower_count'] > B['follower_count']) else B\n",
    "    score+=1\n",
    "    print(f\"Current_Score={score}\")\n",
    "print(f\"Final_Score={score}\")\n",
    "    "
   ]
  },
  {
   "cell_type": "code",
   "execution_count": null,
   "id": "de7e49c7-3fe7-4d11-bbd6-589c6ab88afe",
   "metadata": {},
   "outputs": [],
   "source": []
  }
 ],
 "metadata": {
  "kernelspec": {
   "display_name": "Python 3 (ipykernel)",
   "language": "python",
   "name": "python3"
  },
  "language_info": {
   "codemirror_mode": {
    "name": "ipython",
    "version": 3
   },
   "file_extension": ".py",
   "mimetype": "text/x-python",
   "name": "python",
   "nbconvert_exporter": "python",
   "pygments_lexer": "ipython3",
   "version": "3.12.7"
  }
 },
 "nbformat": 4,
 "nbformat_minor": 5
}
