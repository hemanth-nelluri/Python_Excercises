{
 "cells": [
  {
   "cell_type": "code",
   "execution_count": 1,
   "id": "e3d0e433-d701-4043-bb03-b80c9954e999",
   "metadata": {},
   "outputs": [
    {
     "name": "stdin",
     "output_type": "stream",
     "text": [
      "Type 'encode' to encrypt,Type 'decode' to decrypt encode\n",
      "Type ur message pooji\n",
      "Type the shift number 4\n"
     ]
    },
    {
     "name": "stdout",
     "output_type": "stream",
     "text": [
      "Here's ur encoded msg:tssnm\n"
     ]
    },
    {
     "name": "stdin",
     "output_type": "stream",
     "text": [
      "Type 'yes' if u want to go again.Otherwise type 'no' no\n"
     ]
    }
   ],
   "source": [
    "import string\n",
    "letters=string.ascii_lowercase\n",
    "digits=string.digits\n",
    "def encryption():\n",
    "    encoded_msg=[]\n",
    "    msg=input(\"Type ur message\").strip().lower()\n",
    "    shift=int(input(\"Type the shift number\"))\n",
    "    for i in msg:\n",
    "        index=(letters.index(i)+shift)%26\n",
    "        i=letters[index]\n",
    "        encoded_msg.append(i)\n",
    "    print(f\"Here's ur encoded msg:{''.join(encoded_msg)}\")\n",
    "def decryption():\n",
    "    decoded_msg=[]\n",
    "    msg=input(\"Type ur message\").strip().lower()\n",
    "    shift=int(input(\"Type the shift number\"))\n",
    "    for i in msg:\n",
    "        index=(letters.index(i)-shift)%26\n",
    "        i=letters[index]\n",
    "        decoded_msg.append(i)\n",
    "    print(f\"Here's ur decoded msg:{''.join(decoded_msg)}\")\n",
    "while True:\n",
    "    user_input=input(\"Type 'encode' to encrypt,Type 'decode' to decrypt\").strip().lower()\n",
    "    if user_input=='encode':\n",
    "       encryption()\n",
    "    elif user_input=='decode':\n",
    "       decryption()\n",
    "    else:\n",
    "       print(\"enter valid input\")\n",
    "    repeat_user=input(\"Type 'yes' if u want to go again.Otherwise type 'no'\").strip().lower()\n",
    "    if repeat_user=='no':\n",
    "        break\n"
   ]
  },
  {
   "cell_type": "code",
   "execution_count": null,
   "id": "4baf0072-9301-4aec-8a31-cf10b7be3b6f",
   "metadata": {},
   "outputs": [
    {
     "name": "stdin",
     "output_type": "stream",
     "text": [
      "Type 'encode' to encrypt,Type 'decode' to decrypt encode\n",
      "Type ur message hello world!\n",
      "Type the shift number 3\n"
     ]
    },
    {
     "name": "stdout",
     "output_type": "stream",
     "text": [
      "Here's ur encodeed msg:khoor zruog!\n"
     ]
    }
   ],
   "source": [
    "import string\n",
    "letters=string.ascii_lowercase\n",
    "digits=string.digits\n",
    "def caeser(msg,shift,user_input):\n",
    "    caeser_msg=[]\n",
    "    if user_input=='decode':\n",
    "        shift*=-1\n",
    "    for i in msg:\n",
    "        if i in letters:\n",
    "           index=(letters.index(i)+shift)%26\n",
    "           i=letters[index]\n",
    "           caeser_msg.append(i)\n",
    "        else:\n",
    "           caeser_msg.append(i) \n",
    "    print(f\"Here's ur {user_input}ed msg:{''.join(caeser_msg)}\")\n",
    "while True:\n",
    "    user_input=input(\"Type 'encode' to encrypt,Type 'decode' to decrypt\").strip().lower()\n",
    "    msg=input(\"Type ur message\").strip().lower()\n",
    "    shift=int(input(\"Type the shift number\"))\n",
    "    caeser(msg,shift,user_input)\n",
    "    repeat_user=input(\"Type 'yes' if u want to go again.Otherwise type 'no'\").strip().lower()\n",
    "    if repeat_user=='no':\n",
    "        break\n"
   ]
  },
  {
   "cell_type": "code",
   "execution_count": null,
   "id": "cf681511-8c0d-450c-98ec-e863121b7785",
   "metadata": {},
   "outputs": [],
   "source": []
  }
 ],
 "metadata": {
  "kernelspec": {
   "display_name": "Python 3 (ipykernel)",
   "language": "python",
   "name": "python3"
  },
  "language_info": {
   "codemirror_mode": {
    "name": "ipython",
    "version": 3
   },
   "file_extension": ".py",
   "mimetype": "text/x-python",
   "name": "python",
   "nbconvert_exporter": "python",
   "pygments_lexer": "ipython3",
   "version": "3.12.7"
  }
 },
 "nbformat": 4,
 "nbformat_minor": 5
}
