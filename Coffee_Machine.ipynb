{
 "cells": [
  {
   "cell_type": "code",
   "execution_count": null,
   "id": "ef6dabd8-523c-4ef4-9311-cddf38f595ce",
   "metadata": {},
   "outputs": [
    {
     "name": "stdin",
     "output_type": "stream",
     "text": [
      "What would you like? (espresso/latte/cappuccino): latte\n"
     ]
    },
    {
     "name": "stdout",
     "output_type": "stream",
     "text": [
      "Please insert coins\n"
     ]
    },
    {
     "name": "stdin",
     "output_type": "stream",
     "text": [
      "How many Quarters?: 10\n",
      "How many dimes?: 5\n",
      "How many nickels?: 5\n",
      "How many penny?: 0\n"
     ]
    },
    {
     "name": "stdout",
     "output_type": "stream",
     "text": [
      "Here is $0.5 dollars in change.\n",
      "Here is your latte. Enjoy!\n"
     ]
    },
    {
     "name": "stdin",
     "output_type": "stream",
     "text": [
      "What would you like? (espresso/latte/cappuccino): cappuccino\n"
     ]
    },
    {
     "name": "stdout",
     "output_type": "stream",
     "text": [
      "Please insert coins\n"
     ]
    },
    {
     "name": "stdin",
     "output_type": "stream",
     "text": [
      "How many Quarters?: 4\n",
      "How many dimes?: 0\n",
      "How many nickels?: 0\n",
      "How many penny?: 0\n"
     ]
    },
    {
     "name": "stdout",
     "output_type": "stream",
     "text": [
      "Sorry that's not enough money. Money refunded.\n"
     ]
    }
   ],
   "source": [
    "Menu=[{\"type\":\"espresso\",\"cost\":150,\"water\":50,\"milk\":0,\"coffee\":18},\n",
    "      {\"type\":\"latte\",\"cost\":250,\"water\":200,\"milk\":150,\"coffee\":24},\n",
    "      {\"type\":\"cappuccino\",\"cost\":300,\"water\":250,\"milk\":100,\"coffee\":24}]\n",
    "class CoffeeMachine:\n",
    "    Water=1000\n",
    "    Milk=500\n",
    "    Coffee=100\n",
    "    Money=0\n",
    "    def __init__(self,user_input):\n",
    "        self.user_input=user_input\n",
    "    def coffee_making(self,coffee):\n",
    "        self.coffee=coffee \n",
    "        if self.user_input == \"report\":\n",
    "            print(f\"Water: {self.__class__.Water}\")\n",
    "            print(f\"Milk: {self.__class__.Milk}\")\n",
    "            print(f\"Coffee: {self.__class__.Coffee}\")\n",
    "            print(f\"Money: {self.__class__.Money}\")\n",
    "        for i in Menu:\n",
    "            if self.coffee==i[\"type\"]:\n",
    "                    self.__class__.Water-=i[\"water\"]\n",
    "                    self.__class__.Coffee-=i[\"coffee\"]\n",
    "                    self.__class__.Money+=i[\"cost\"]\n",
    "                    self.__class__.Milk-=i[\"milk\"]\n",
    "                    print(f\"Here is your {self.coffee}. Enjoy!\")\n",
    "        return self.__class__.Water,self.__class__.Milk, self.__class__.Coffee, self.__class__.Money\n",
    "    def process_coins(self,quarters,dimes,nickels,penny):\n",
    "        self.quarters=quarters\n",
    "        self.dimes=dimes\n",
    "        self.nickels=nickels\n",
    "        self.penny=penny\n",
    "        total_money=25*self.quarters+10*self.dimes+5*self.nickels+1*self.penny\n",
    "        for i in Menu:\n",
    "            if i[\"type\"]==self.user_input:\n",
    "                if self.__class__.Water<i[\"water\"] or self.__class__.Milk<i[\"milk\"] or self.__class__.Coffee<i[\"coffee\"]:\n",
    "                    print(f\"Sorry!Can't make {i[\"type\"]}.Don't have enough resources\")\n",
    "                    print(f\"Here is your ${total_money/100} dollars\")\n",
    "                elif total_money==i[\"cost\"]:\n",
    "                    self.coffee_making(self.user_input)\n",
    "                elif total_money>i[\"cost\"]:\n",
    "                    balance=total_money-i[\"cost\"]\n",
    "                    print(f\"Here is ${balance/100} dollars in change.\")\n",
    "                    self.coffee_making(self.user_input)\n",
    "                else:\n",
    "                    print(\"Sorry that's not enough money. Money refunded.\")       \n",
    "while True:\n",
    "    user_input=input(\"What would you like? (espresso/latte/cappuccino):\").strip().lower()\n",
    "    if user_input==\"off\":\n",
    "       break\n",
    "    elif user_input==\"report\":\n",
    "        ob=CoffeeMachine(user_input)\n",
    "        ob.coffee_making(user_input)\n",
    "        continue\n",
    "    else:\n",
    "        print(\"Please insert coins\")\n",
    "        quarters=int(input(\"How many Quarters?:\"))\n",
    "        dimes=int(input(\"How many dimes?:\")) \n",
    "        nickels=int(input(\"How many nickels?:\"))\n",
    "        penny=int(input(\"How many penny?:\"))\n",
    "        ob=CoffeeMachine(user_input)\n",
    "        ob.process_coins(quarters,dimes,nickles,penny)\n",
    "    \n",
    "\n",
    "        \n",
    "        "
   ]
  },
  {
   "cell_type": "code",
   "execution_count": null,
   "id": "5333b406-67c1-412e-b547-3256b0b73906",
   "metadata": {},
   "outputs": [],
   "source": []
  }
 ],
 "metadata": {
  "kernelspec": {
   "display_name": "Python 3 (ipykernel)",
   "language": "python",
   "name": "python3"
  },
  "language_info": {
   "codemirror_mode": {
    "name": "ipython",
    "version": 3
   },
   "file_extension": ".py",
   "mimetype": "text/x-python",
   "name": "python",
   "nbconvert_exporter": "python",
   "pygments_lexer": "ipython3",
   "version": "3.12.7"
  }
 },
 "nbformat": 4,
 "nbformat_minor": 5
}
