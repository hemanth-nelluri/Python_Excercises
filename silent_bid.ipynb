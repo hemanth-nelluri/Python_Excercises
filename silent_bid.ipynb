{
 "cells": [
  {
   "cell_type": "code",
   "execution_count": 8,
   "id": "4afe77f2-15aa-4c57-be48-49736b5477e1",
   "metadata": {},
   "outputs": [
    {
     "name": "stdout",
     "output_type": "stream",
     "text": [
      "Collecting art\n",
      "  Downloading art-6.5-py3-none-any.whl.metadata (72 kB)\n",
      "Downloading art-6.5-py3-none-any.whl (610 kB)\n",
      "   ---------------------------------------- 0.0/610.4 kB ? eta -:--:--\n",
      "   ----------------- ---------------------- 262.1/610.4 kB ? eta -:--:--\n",
      "   ---------------------------------- ----- 524.3/610.4 kB 1.0 MB/s eta 0:00:01\n",
      "   ---------------------------------------- 610.4/610.4 kB 1.1 MB/s eta 0:00:00\n",
      "Installing collected packages: art\n",
      "Successfully installed art-6.5\n",
      "Note: you may need to restart the kernel to use updated packages.\n"
     ]
    }
   ],
   "source": [
    "pip install art"
   ]
  },
  {
   "cell_type": "code",
   "execution_count": null,
   "id": "d9b322fe-57ad-4fb0-8958-5fb6acf99586",
   "metadata": {},
   "outputs": [
    {
     "name": "stdout",
     "output_type": "stream",
     "text": [
      "                              _     _      _      _      _  _               \n",
      " ___   ___   ___  _ __   ___ | |_  | |__  (_)  __| |  __| |(_) _ __    __ _ \n",
      "/ __| / _ \\ / __|| '__| / _ \\| __| | '_ \\ | | / _` | / _` || || '_ \\  / _` |\n",
      "\\__ \\|  __/| (__ | |   |  __/| |_  | |_) || || (_| || (_| || || | | || (_| |\n",
      "|___/ \\___| \\___||_|    \\___| \\__| |_.__/ |_| \\__,_| \\__,_||_||_| |_| \\__, |\n",
      "                                                                      |___/ \n",
      "\n",
      "Welcome to Secret BIDDING\n"
     ]
    }
   ],
   "source": [
    "from art import tprint\n",
    "tprint(\"secret bidding\")\n",
    "print(\"Welcome to Secret BIDDING\")\n",
    "bidding={}\n",
    "while True:\n",
    "    name=input(\"Type your name\")\n",
    "    bid=int(input(\"Type amount u want to bid\"))\n",
    "    bidding[name]=bid\n",
    "    ch=input(\"Type 'yes' if there is anyone to bid.Otherwise Type 'no'\").strip().lower()\n",
    "    if ch==\"no\":\n",
    "             break\n",
    "    print(\"\\n\"*20)\n",
    "winner = max(bidding, key=bidding.get)\n",
    "winning_bid = bidding[winner]\n",
    "print(f\"The winner is {winner} with a bid of ${winning_bid}\")\n",
    "    \n",
    "             \n",
    "    \n",
    "    "
   ]
  },
  {
   "cell_type": "code",
   "execution_count": null,
   "id": "2e7e60b4-ed0d-4532-b4f9-549aeccec3b2",
   "metadata": {},
   "outputs": [],
   "source": []
  },
  {
   "cell_type": "code",
   "execution_count": null,
   "id": "52280b15-cb2a-40f3-a785-54b5e40d6dbe",
   "metadata": {},
   "outputs": [],
   "source": []
  }
 ],
 "metadata": {
  "kernelspec": {
   "display_name": "Python 3 (ipykernel)",
   "language": "python",
   "name": "python3"
  },
  "language_info": {
   "codemirror_mode": {
    "name": "ipython",
    "version": 3
   },
   "file_extension": ".py",
   "mimetype": "text/x-python",
   "name": "python",
   "nbconvert_exporter": "python",
   "pygments_lexer": "ipython3",
   "version": "3.12.7"
  }
 },
 "nbformat": 4,
 "nbformat_minor": 5
}
