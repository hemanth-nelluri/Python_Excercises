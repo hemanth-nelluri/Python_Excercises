{
 "cells": [
  {
   "cell_type": "code",
   "execution_count": 31,
   "id": "f155fbf4-aab9-4735-878a-61ae39f78b4d",
   "metadata": {},
   "outputs": [
    {
     "name": "stdout",
     "output_type": "stream",
     "text": [
      " ____  _            _       _           \n",
      "    | __ )| | __ _  ___| | __  | | __ _  ___| | __\n",
      "    |  _ \\| |/ _` |/ __| |/ /  | |/ _` |/ __| |/ /\n",
      "    | |_) | | (_| | (__|   < |_| | (_| | (__|   < \n",
      "    |____/|_|\\__,_|\\___|_|\\_\\___/ \\__,_|\\___|_|\\_\\\n",
      "    \n",
      "Welcome to blackjack\n",
      "your cards are [10, 10], current_score=20\n",
      "computer's first card is 6\n"
     ]
    },
    {
     "name": "stdin",
     "output_type": "stream",
     "text": [
      "Type 'y' to get another card. Type 'n' to pass n\n"
     ]
    },
    {
     "name": "stdout",
     "output_type": "stream",
     "text": [
      "your final hand cards are [10, 10], current_score=20\n",
      "Computer's final hand cards are [6, 5, 2, 1, 5], current_score=19\n",
      "****You WON****\n"
     ]
    },
    {
     "name": "stdin",
     "output_type": "stream",
     "text": [
      "Do you want to play BlackJack game?Type 'y' or 'n' y\n"
     ]
    },
    {
     "name": "stdout",
     "output_type": "stream",
     "text": [
      "\n",
      "\n",
      "\n",
      "\n",
      "\n",
      "\n",
      "\n",
      "\n",
      "\n",
      "\n",
      "\n",
      "\n",
      "\n",
      "\n",
      "\n",
      "\n",
      "\n",
      "\n",
      "\n",
      "\n",
      "\n",
      " ____  _            _       _           \n",
      "    | __ )| | __ _  ___| | __  | | __ _  ___| | __\n",
      "    |  _ \\| |/ _` |/ __| |/ /  | |/ _` |/ __| |/ /\n",
      "    | |_) | | (_| | (__|   < |_| | (_| | (__|   < \n",
      "    |____/|_|\\__,_|\\___|_|\\_\\___/ \\__,_|\\___|_|\\_\\\n",
      "    \n",
      "Welcome to blackjack\n",
      "your cards are [10, 7], current_score=17\n",
      "computer's first card is 5\n"
     ]
    },
    {
     "name": "stdin",
     "output_type": "stream",
     "text": [
      "Type 'y' to get another card. Type 'n' to pass y\n"
     ]
    },
    {
     "name": "stdout",
     "output_type": "stream",
     "text": [
      "your cards are [10, 7, 2], current_score=19\n",
      "computer's first card is 5\n"
     ]
    },
    {
     "name": "stdin",
     "output_type": "stream",
     "text": [
      "Type 'y' to get another card. Type 'n' to pass n\n"
     ]
    },
    {
     "name": "stdout",
     "output_type": "stream",
     "text": [
      "your final hand cards are [10, 7, 2], current_score=19\n",
      "Computer's final hand cards are [5, 5, 4, 8], current_score=22\n",
      "****Computer went over.You WON****\n"
     ]
    },
    {
     "name": "stdin",
     "output_type": "stream",
     "text": [
      "Do you want to play BlackJack game?Type 'y' or 'n' n\n"
     ]
    }
   ],
   "source": [
    "import random\n",
    "def adjust_for_ace(hand):\n",
    "    while sum(hand) > 21 and 11 in hand:\n",
    "        hand[hand.index(11)] = 1\n",
    "    return hand\n",
    "def blackjack(user_score,computer_score):\n",
    "    if user_score>21 or computer_score>21:\n",
    "        if user_score>21 and computer_score>21:\n",
    "            print(\"****DRAW****\")\n",
    "        elif computer_score>21:\n",
    "            print(\"****Computer went over.You WON****\")\n",
    "        else:\n",
    "            print(\"****You went over.You LOSE****\")\n",
    "    elif user_score==21 or computer_score==21:\n",
    "        if user_score==21 and computer_score==21:\n",
    "            print(\"****DRAW****\")\n",
    "        elif user_score==21:\n",
    "            print(\"****BLACKJACK****\\n****YOU WON****\")\n",
    "        else:\n",
    "            print(\"**** You LOSE ****\")\n",
    "    else:\n",
    "        if user_score==computer_score:\n",
    "            print(\"****DRAW****\")\n",
    "        elif user_score>computer_score:\n",
    "            print(\"****You WON****\")\n",
    "        else:\n",
    "            print(\"**** You LOSE ****\")\n",
    "while True:\n",
    "    print(r''' ____  _            _       _           \n",
    "    | __ )| | __ _  ___| | __  | | __ _  ___| | __\n",
    "    |  _ \\| |/ _` |/ __| |/ /  | |/ _` |/ __| |/ /\n",
    "    | |_) | | (_| | (__|   < |_| | (_| | (__|   < \n",
    "    |____/|_|\\__,_|\\___|_|\\_\\___/ \\__,_|\\___|_|\\_\\\n",
    "    ''')\n",
    "    print(\"Welcome to blackjack\")\n",
    "    cards=[11,2,3,4,5,6,7,8,9,10,10,10,10]\n",
    "    user=random.choices(cards,k=2)\n",
    "    user=adjust_for_ace(user)\n",
    "    user_score=sum(user)\n",
    "    print(f\"your cards are {user}, current_score={user_score}\")\n",
    "    computer=random.choices(cards,k=2)\n",
    "    computer=adjust_for_ace(computer)\n",
    "    computer_score=sum(computer)\n",
    "    print(f\"computer's first card is {computer[0]}\")\n",
    "    choice='y'\n",
    "    while choice=='y':\n",
    "          choice=input(\"Type 'y' to get another card. Type 'n' to pass\").strip().lower()\n",
    "          if choice=='y':\n",
    "             user.append(random.choice(cards))\n",
    "             user=adjust_for_ace(user)\n",
    "             user_score=sum(user)\n",
    "             print(f\"your cards are {user}, current_score={user_score}\")\n",
    "             print(f\"computer's first card is {computer[0]}\")\n",
    "             if user_score>21:\n",
    "                break\n",
    "          else:\n",
    "             choice='n'\n",
    "    while computer_score<17:\n",
    "          computer.append(random.choice(cards))\n",
    "          computer=adjust_for_ace(computer)\n",
    "          computer_score=sum(computer)\n",
    "    print(f\"your final hand cards are {user}, current_score={user_score}\")\n",
    "    print(f\"Computer's final hand cards are {computer}, current_score={computer_score}\")\n",
    "    blackjack(user_score,computer_score)\n",
    "    ch=input(\"Do you want to play BlackJack game?Type 'y' or 'n'\")\n",
    "    if ch=='n':\n",
    "        break\n",
    "    print(\"\\n\"*20)\n",
    "\n"
   ]
  },
  {
   "cell_type": "code",
   "execution_count": null,
   "id": "b5f1c3af-52d7-4456-8b25-72dc98de679e",
   "metadata": {},
   "outputs": [],
   "source": []
  },
  {
   "cell_type": "code",
   "execution_count": null,
   "id": "9b0b6c00-ca2a-4b0e-8c45-99ec032fef8d",
   "metadata": {},
   "outputs": [],
   "source": []
  }
 ],
 "metadata": {
  "kernelspec": {
   "display_name": "Python 3 (ipykernel)",
   "language": "python",
   "name": "python3"
  },
  "language_info": {
   "codemirror_mode": {
    "name": "ipython",
    "version": 3
   },
   "file_extension": ".py",
   "mimetype": "text/x-python",
   "name": "python",
   "nbconvert_exporter": "python",
   "pygments_lexer": "ipython3",
   "version": "3.12.7"
  }
 },
 "nbformat": 4,
 "nbformat_minor": 5
}
